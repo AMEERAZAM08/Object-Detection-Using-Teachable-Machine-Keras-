{
 "cells": [
  {
   "cell_type": "code",
   "execution_count": 3,
   "source": [
    "from keras.models import load_model\r\n",
    "from PIL import Image, ImageOps\r\n",
    "import numpy as np\r\n",
    "\r\n",
    "# Load the model\r\n",
    "model = load_model('keras_model.h5')\r\n",
    "data = np.ndarray(shape=(1, 224, 224, 3), dtype=np.float32)\r\n"
   ],
   "outputs": [
    {
     "output_type": "stream",
     "name": "stdout",
     "text": [
      "WARNING:tensorflow:No training configuration found in the save file, so the model was *not* compiled. Compile it manually.\n"
     ]
    }
   ],
   "metadata": {}
  },
  {
   "cell_type": "code",
   "execution_count": 8,
   "source": [
    "image = Image.open('Capture1.JPG')\r\n",
    "#resize the image to a 224x224 with the same strategy as in TM2:\r\n",
    "#resizing the image to be at least 224x224 and then cropping from the center\r\n",
    "size = (224, 224)\r\n",
    "image = ImageOps.fit(image, size, Image.ANTIALIAS)\r\n",
    "\r\n",
    "#turn the image into a numpy array\r\n",
    "image_array = np.asarray(image)\r\n",
    "# Normalize the image\r\n",
    "normalized_image_array = (image_array.astype(np.float32) / 127.0) - 1\r\n",
    "# Load the image into the array\r\n",
    "data[0] = normalized_image_array\r\n",
    "\r\n",
    "# run the inference\r\n",
    "prediction = model.predict(data)\r\n",
    "if prediction[0][0] > prediction[0][1]:\r\n",
    "    print(\"Prediction: Back\")\r\n",
    "else:\r\n",
    "    print(\"Prediction: black with white\")\r\n",
    "print(prediction)\r\n"
   ],
   "outputs": [
    {
     "output_type": "stream",
     "name": "stdout",
     "text": [
      "Prediction: black with white\n",
      "[[0.02687143 0.9731286 ]]\n"
     ]
    }
   ],
   "metadata": {}
  }
 ],
 "metadata": {
  "orig_nbformat": 4,
  "language_info": {
   "name": "python",
   "version": "3.8.3",
   "mimetype": "text/x-python",
   "codemirror_mode": {
    "name": "ipython",
    "version": 3
   },
   "pygments_lexer": "ipython3",
   "nbconvert_exporter": "python",
   "file_extension": ".py"
  },
  "kernelspec": {
   "name": "python3",
   "display_name": "Python 3.8.3 64-bit ('base': conda)"
  },
  "interpreter": {
   "hash": "01ff929019f84a2f36bd04cd78eb5bad3ab1f6a75bf85d0b7d66b6f7822ff374"
  }
 },
 "nbformat": 4,
 "nbformat_minor": 2
}